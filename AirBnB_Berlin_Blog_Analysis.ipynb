{
 "cells": [
  {
   "cell_type": "code",
   "execution_count": 1,
   "metadata": {},
   "outputs": [],
   "source": [
    "# Importing necessary libraries\n",
    "import numpy as np\n",
    "import pandas as pd\n",
    "import matplotlib.pyplot as plt\n",
    "from sklearn.linear_model import LinearRegression\n",
    "from sklearn.model_selection import train_test_split\n",
    "from sklearn.metrics import r2_score, mean_squared_error\n",
    "\n",
    "import seaborn as sns\n",
    "%matplotlib inline"
   ]
  },
  {
   "cell_type": "markdown",
   "metadata": {},
   "source": [
    "# AirBNB Berlin dataset"
   ]
  },
  {
   "cell_type": "markdown",
   "metadata": {},
   "source": [
    "## Data cleaning and preparation (listings.csv)"
   ]
  },
  {
   "cell_type": "markdown",
   "metadata": {},
   "source": [
    "For this analysis I use Berlin AirBnB dataset from the official AirBnB website: http://insideairbnb.com/get-the-data.html"
   ]
  },
  {
   "cell_type": "code",
   "execution_count": 2,
   "metadata": {},
   "outputs": [
    {
     "data": {
      "text/html": [
       "<div>\n",
       "<style scoped>\n",
       "    .dataframe tbody tr th:only-of-type {\n",
       "        vertical-align: middle;\n",
       "    }\n",
       "\n",
       "    .dataframe tbody tr th {\n",
       "        vertical-align: top;\n",
       "    }\n",
       "\n",
       "    .dataframe thead th {\n",
       "        text-align: right;\n",
       "    }\n",
       "</style>\n",
       "<table border=\"1\" class=\"dataframe\">\n",
       "  <thead>\n",
       "    <tr style=\"text-align: right;\">\n",
       "      <th></th>\n",
       "      <th>id</th>\n",
       "      <th>listing_url</th>\n",
       "      <th>scrape_id</th>\n",
       "      <th>last_scraped</th>\n",
       "      <th>name</th>\n",
       "      <th>summary</th>\n",
       "      <th>space</th>\n",
       "      <th>description</th>\n",
       "      <th>experiences_offered</th>\n",
       "      <th>neighborhood_overview</th>\n",
       "      <th>...</th>\n",
       "      <th>instant_bookable</th>\n",
       "      <th>is_business_travel_ready</th>\n",
       "      <th>cancellation_policy</th>\n",
       "      <th>require_guest_profile_picture</th>\n",
       "      <th>require_guest_phone_verification</th>\n",
       "      <th>calculated_host_listings_count</th>\n",
       "      <th>calculated_host_listings_count_entire_homes</th>\n",
       "      <th>calculated_host_listings_count_private_rooms</th>\n",
       "      <th>calculated_host_listings_count_shared_rooms</th>\n",
       "      <th>reviews_per_month</th>\n",
       "    </tr>\n",
       "  </thead>\n",
       "  <tbody>\n",
       "    <tr>\n",
       "      <th>0</th>\n",
       "      <td>2015</td>\n",
       "      <td>https://www.airbnb.com/rooms/2015</td>\n",
       "      <td>20190308173525</td>\n",
       "      <td>2019-03-08</td>\n",
       "      <td>Berlin-Mitte Value! Quiet courtyard/very central</td>\n",
       "      <td>Great location!  30 of 75 sq meters. This wood...</td>\n",
       "      <td>A+++ location! This „Einliegerwohnung“ is an e...</td>\n",
       "      <td>Great location!  30 of 75 sq meters. This wood...</td>\n",
       "      <td>none</td>\n",
       "      <td>It is located in the former East Berlin area o...</td>\n",
       "      <td>...</td>\n",
       "      <td>f</td>\n",
       "      <td>f</td>\n",
       "      <td>moderate</td>\n",
       "      <td>f</td>\n",
       "      <td>f</td>\n",
       "      <td>7</td>\n",
       "      <td>7</td>\n",
       "      <td>0</td>\n",
       "      <td>0</td>\n",
       "      <td>3.45</td>\n",
       "    </tr>\n",
       "  </tbody>\n",
       "</table>\n",
       "<p>1 rows × 106 columns</p>\n",
       "</div>"
      ],
      "text/plain": [
       "     id                        listing_url       scrape_id last_scraped  \\\n",
       "0  2015  https://www.airbnb.com/rooms/2015  20190308173525   2019-03-08   \n",
       "\n",
       "                                               name  \\\n",
       "0  Berlin-Mitte Value! Quiet courtyard/very central   \n",
       "\n",
       "                                             summary  \\\n",
       "0  Great location!  30 of 75 sq meters. This wood...   \n",
       "\n",
       "                                               space  \\\n",
       "0  A+++ location! This „Einliegerwohnung“ is an e...   \n",
       "\n",
       "                                         description experiences_offered  \\\n",
       "0  Great location!  30 of 75 sq meters. This wood...                none   \n",
       "\n",
       "                               neighborhood_overview        ...          \\\n",
       "0  It is located in the former East Berlin area o...        ...           \n",
       "\n",
       "  instant_bookable is_business_travel_ready cancellation_policy  \\\n",
       "0                f                        f            moderate   \n",
       "\n",
       "  require_guest_profile_picture require_guest_phone_verification  \\\n",
       "0                             f                                f   \n",
       "\n",
       "   calculated_host_listings_count  \\\n",
       "0                               7   \n",
       "\n",
       "   calculated_host_listings_count_entire_homes  \\\n",
       "0                                            7   \n",
       "\n",
       "  calculated_host_listings_count_private_rooms  \\\n",
       "0                                            0   \n",
       "\n",
       "   calculated_host_listings_count_shared_rooms  reviews_per_month  \n",
       "0                                            0               3.45  \n",
       "\n",
       "[1 rows x 106 columns]"
      ]
     },
     "execution_count": 2,
     "metadata": {},
     "output_type": "execute_result"
    }
   ],
   "source": [
    "listings = pd.read_csv('listings_feb19.csv.gz')\n",
    "listings.head(1)"
   ]
  },
  {
   "cell_type": "code",
   "execution_count": 3,
   "metadata": {},
   "outputs": [
    {
     "data": {
      "text/plain": [
       "(23614, 106)"
      ]
     },
     "execution_count": 3,
     "metadata": {},
     "output_type": "execute_result"
    }
   ],
   "source": [
    "# Checking the number of observations and columns\n",
    "listings.shape "
   ]
  },
  {
   "cell_type": "code",
   "execution_count": 4,
   "metadata": {},
   "outputs": [
    {
     "data": {
      "image/png": "[encoded data removed]",
      "text/plain": [
       "<Figure size 432x288 with 1 Axes>"
      ]
     },
     "metadata": {},
     "output_type": "display_data"
    }
   ],
   "source": [
    "# Checking the dataset for missing values\n",
    "missing = listings.isnull().sum()\n",
    "missing = missing[missing > 0]/(listings.shape[0]) * 100\n",
    "missing.sort_values(inplace=True)\n",
    "\n",
    "#Plot mit der Verteilung von missing values\n",
    "plt.hist(missing, bins=20, facecolor='g', alpha=0.75)\n",
    "\n",
    "\n",
    "plt.xlabel('Missing Values (%)')\n",
    "plt.ylabel('Counts')\n",
    "plt.title('Histogram missing values')\n",
    "plt.grid(True)\n",
    "plt.show()"
   ]
  },
  {
   "cell_type": "code",
   "execution_count": 5,
   "metadata": {},
   "outputs": [
    {
     "name": "stdout",
     "output_type": "stream",
     "text": [
      "['notes', 'thumbnail_url', 'medium_url', 'xl_picture_url', 'host_acceptance_rate', 'square_feet', 'weekly_price', 'monthly_price', 'license', 'jurisdiction_names']\n"
     ]
    }
   ],
   "source": [
    "# Search for variables with more than 60% missings\n",
    "missing_60 = [col for col in listings.columns if (listings[col].isnull().sum()/listings.shape[0]) * 100 > 60]\n",
    "print(missing_60)"
   ]
  },
  {
   "cell_type": "code",
   "execution_count": 6,
   "metadata": {},
   "outputs": [],
   "source": [
    "# Droping variables with more then 60% missings\n",
    "for col in missing_60:\n",
    "    listings.drop(col, axis=1, inplace=True)"
   ]
  },
  {
   "cell_type": "code",
   "execution_count": 7,
   "metadata": {},
   "outputs": [
    {
     "data": {
      "text/plain": [
       "(23614, 96)"
      ]
     },
     "execution_count": 7,
     "metadata": {},
     "output_type": "execute_result"
    }
   ],
   "source": [
    "# There are still 96 columns\n",
    "listings.shape"
   ]
  },
  {
   "cell_type": "code",
   "execution_count": 8,
   "metadata": {},
   "outputs": [
    {
     "data": {
      "text/html": [
       "<div>\n",
       "<style scoped>\n",
       "    .dataframe tbody tr th:only-of-type {\n",
       "        vertical-align: middle;\n",
       "    }\n",
       "\n",
       "    .dataframe tbody tr th {\n",
       "        vertical-align: top;\n",
       "    }\n",
       "\n",
       "    .dataframe thead th {\n",
       "        text-align: right;\n",
       "    }\n",
       "</style>\n",
       "<table border=\"1\" class=\"dataframe\">\n",
       "  <thead>\n",
       "    <tr style=\"text-align: right;\">\n",
       "      <th></th>\n",
       "      <th>id</th>\n",
       "      <th>listing_url</th>\n",
       "      <th>scrape_id</th>\n",
       "      <th>last_scraped</th>\n",
       "      <th>name</th>\n",
       "      <th>summary</th>\n",
       "      <th>space</th>\n",
       "      <th>description</th>\n",
       "      <th>experiences_offered</th>\n",
       "      <th>neighborhood_overview</th>\n",
       "      <th>...</th>\n",
       "      <th>instant_bookable</th>\n",
       "      <th>is_business_travel_ready</th>\n",
       "      <th>cancellation_policy</th>\n",
       "      <th>require_guest_profile_picture</th>\n",
       "      <th>require_guest_phone_verification</th>\n",
       "      <th>calculated_host_listings_count</th>\n",
       "      <th>calculated_host_listings_count_entire_homes</th>\n",
       "      <th>calculated_host_listings_count_private_rooms</th>\n",
       "      <th>calculated_host_listings_count_shared_rooms</th>\n",
       "      <th>reviews_per_month</th>\n",
       "    </tr>\n",
       "  </thead>\n",
       "  <tbody>\n",
       "  </tbody>\n",
       "</table>\n",
       "<p>0 rows × 96 columns</p>\n",
       "</div>"
      ],
      "text/plain": [
       "Empty DataFrame\n",
       "Columns: [id, listing_url, scrape_id, last_scraped, name, summary, space, description, experiences_offered, neighborhood_overview, transit, access, interaction, house_rules, picture_url, host_id, host_url, host_name, host_since, host_location, host_about, host_response_time, host_response_rate, host_is_superhost, host_thumbnail_url, host_picture_url, host_neighbourhood, host_listings_count, host_total_listings_count, host_verifications, host_has_profile_pic, host_identity_verified, street, neighbourhood, neighbourhood_cleansed, neighbourhood_group_cleansed, city, state, zipcode, market, smart_location, country_code, country, latitude, longitude, is_location_exact, property_type, room_type, accommodates, bathrooms, bedrooms, beds, bed_type, amenities, price, security_deposit, cleaning_fee, guests_included, extra_people, minimum_nights, maximum_nights, minimum_minimum_nights, maximum_minimum_nights, minimum_maximum_nights, maximum_maximum_nights, minimum_nights_avg_ntm, maximum_nights_avg_ntm, calendar_updated, has_availability, availability_30, availability_60, availability_90, availability_365, calendar_last_scraped, number_of_reviews, number_of_reviews_ltm, first_review, last_review, review_scores_rating, review_scores_accuracy, review_scores_cleanliness, review_scores_checkin, review_scores_communication, review_scores_location, review_scores_value, requires_license, instant_bookable, is_business_travel_ready, cancellation_policy, require_guest_profile_picture, require_guest_phone_verification, calculated_host_listings_count, calculated_host_listings_count_entire_homes, calculated_host_listings_count_private_rooms, calculated_host_listings_count_shared_rooms, reviews_per_month]\n",
       "Index: []\n",
       "\n",
       "[0 rows x 96 columns]"
      ]
     },
     "execution_count": 8,
     "metadata": {},
     "output_type": "execute_result"
    }
   ],
   "source": [
    "listings[listings.duplicated(['listing_url'], keep=False)]#checking for duplicates"
   ]
  },
  {
   "cell_type": "code",
   "execution_count": 9,
   "metadata": {},
   "outputs": [
    {
     "data": {
      "text/plain": [
       "['id',\n",
       " 'listing_url',\n",
       " 'scrape_id',\n",
       " 'last_scraped',\n",
       " 'name',\n",
       " 'summary',\n",
       " 'space',\n",
       " 'description',\n",
       " 'experiences_offered',\n",
       " 'neighborhood_overview',\n",
       " 'transit',\n",
       " 'access',\n",
       " 'interaction',\n",
       " 'house_rules',\n",
       " 'picture_url',\n",
       " 'host_id',\n",
       " 'host_url',\n",
       " 'host_name',\n",
       " 'host_since',\n",
       " 'host_location',\n",
       " 'host_about',\n",
       " 'host_response_time',\n",
       " 'host_response_rate',\n",
       " 'host_is_superhost',\n",
       " 'host_thumbnail_url',\n",
       " 'host_picture_url',\n",
       " 'host_neighbourhood',\n",
       " 'host_listings_count',\n",
       " 'host_total_listings_count',\n",
       " 'host_verifications',\n",
       " 'host_has_profile_pic',\n",
       " 'host_identity_verified',\n",
       " 'street',\n",
       " 'neighbourhood',\n",
       " 'neighbourhood_cleansed',\n",
       " 'neighbourhood_group_cleansed',\n",
       " 'city',\n",
       " 'state',\n",
       " 'zipcode',\n",
       " 'market',\n",
       " 'smart_location',\n",
       " 'country_code',\n",
       " 'country',\n",
       " 'latitude',\n",
       " 'longitude',\n",
       " 'is_location_exact',\n",
       " 'property_type',\n",
       " 'room_type',\n",
       " 'accommodates',\n",
       " 'bathrooms',\n",
       " 'bedrooms',\n",
       " 'beds',\n",
       " 'bed_type',\n",
       " 'amenities',\n",
       " 'price',\n",
       " 'security_deposit',\n",
       " 'cleaning_fee',\n",
       " 'guests_included',\n",
       " 'extra_people',\n",
       " 'minimum_nights',\n",
       " 'maximum_nights',\n",
       " 'minimum_minimum_nights',\n",
       " 'maximum_minimum_nights',\n",
       " 'minimum_maximum_nights',\n",
       " 'maximum_maximum_nights',\n",
       " 'minimum_nights_avg_ntm',\n",
       " 'maximum_nights_avg_ntm',\n",
       " 'calendar_updated',\n",
       " 'has_availability',\n",
       " 'availability_30',\n",
       " 'availability_60',\n",
       " 'availability_90',\n",
       " 'availability_365',\n",
       " 'calendar_last_scraped',\n",
       " 'number_of_reviews',\n",
       " 'number_of_reviews_ltm',\n",
       " 'first_review',\n",
       " 'last_review',\n",
       " 'review_scores_rating',\n",
       " 'review_scores_accuracy',\n",
       " 'review_scores_cleanliness',\n",
       " 'review_scores_checkin',\n",
       " 'review_scores_communication',\n",
       " 'review_scores_location',\n",
       " 'review_scores_value',\n",
       " 'requires_license',\n",
       " 'instant_bookable',\n",
       " 'is_business_travel_ready',\n",
       " 'cancellation_policy',\n",
       " 'require_guest_profile_picture',\n",
       " 'require_guest_phone_verification',\n",
       " 'calculated_host_listings_count',\n",
       " 'calculated_host_listings_count_entire_homes',\n",
       " 'calculated_host_listings_count_private_rooms',\n",
       " 'calculated_host_listings_count_shared_rooms',\n",
       " 'reviews_per_month']"
      ]
     },
     "execution_count": 9,
     "metadata": {},
     "output_type": "execute_result"
    }
   ],
   "source": [
    "list(listings) # checking which columns are left"
   ]
  },
  {
   "cell_type": "code",
   "execution_count": 10,
   "metadata": {},
   "outputs": [],
   "source": [
    "# Removing columns not necessary for the analysis\n",
    "removed = ['listing_url','number_of_reviews','experiences_offered','space','scrape_id',\n",
    " 'number_of_reviews_ltm','summary','description','host_listings_count','name', 'transit',\n",
    " 'first_review','neighborhood_overview','host_neighbourhood','neighbourhood_cleansed',\n",
    " 'last_review','calculated_host_listings_count','state','neighbourhood',\n",
    " 'calculated_host_listings_count_entire_homes','smart_location','city','room_type',\n",
    " 'calculated_host_listings_count_private_rooms','cleaning_fee','extra_people',\n",
    " 'calculated_host_listings_count_shared_rooms','review_scores_accuracy','has_availability',\n",
    " 'review_scores_cleanliness','calendar_last_scraped','calendar_updated','zipcode',\n",
    " 'review_scores_checkin','last_scraped',\n",
    " 'review_scores_communication',\n",
    " 'review_scores_location',\n",
    " 'review_scores_value',\n",
    " 'requires_license',\n",
    " 'instant_bookable',\n",
    " 'is_business_travel_ready',\n",
    " 'cancellation_policy',\n",
    " 'require_guest_profile_picture',\n",
    " 'require_guest_phone_verification','interaction',\n",
    " 'house_rules',\n",
    " 'picture_url',\n",
    " 'host_id',\n",
    " 'host_url',\n",
    " 'host_name','access',\n",
    " 'host_since',\n",
    " 'host_location',\n",
    " 'host_about',\n",
    " 'host_response_time',\n",
    " 'host_response_rate',\n",
    " 'host_is_superhost',\n",
    " 'host_thumbnail_url',\n",
    " 'host_picture_url','is_location_exact','host_verifications',\n",
    " 'host_has_profile_pic',\n",
    " 'host_identity_verified',\n",
    " 'street','bed_type',\n",
    " 'amenities','minimum_minimum_nights',\n",
    " 'maximum_minimum_nights',\n",
    " 'minimum_maximum_nights',\n",
    " 'maximum_maximum_nights',\n",
    " 'minimum_nights_avg_ntm',\n",
    " 'maximum_nights_avg_ntm',\n",
    " 'market',\n",
    " 'country_code',\n",
    " 'country',\n",
    " 'availability_30',\n",
    " 'availability_60',\n",
    " 'availability_90',\n",
    " 'availability_365', 'latitude',\n",
    " 'longitude']"
   ]
  },
  {
   "cell_type": "code",
   "execution_count": 11,
   "metadata": {},
   "outputs": [],
   "source": [
    "listings2 = listings.drop(removed, axis=1)"
   ]
  },
  {
   "cell_type": "code",
   "execution_count": 12,
   "metadata": {},
   "outputs": [
    {
     "data": {
      "text/plain": [
       "(23614, 15)"
      ]
     },
     "execution_count": 12,
     "metadata": {},
     "output_type": "execute_result"
    }
   ],
   "source": [
    "listings2.shape"
   ]
  },
  {
   "cell_type": "code",
   "execution_count": 13,
   "metadata": {},
   "outputs": [
    {
     "data": {
      "text/plain": [
       "['id',\n",
       " 'host_total_listings_count',\n",
       " 'neighbourhood_group_cleansed',\n",
       " 'property_type',\n",
       " 'accommodates',\n",
       " 'bathrooms',\n",
       " 'bedrooms',\n",
       " 'beds',\n",
       " 'price',\n",
       " 'security_deposit',\n",
       " 'guests_included',\n",
       " 'minimum_nights',\n",
       " 'maximum_nights',\n",
       " 'review_scores_rating',\n",
       " 'reviews_per_month']"
      ]
     },
     "execution_count": 13,
     "metadata": {},
     "output_type": "execute_result"
    }
   ],
   "source": [
    "list(listings2)"
   ]
  },
  {
   "cell_type": "code",
   "execution_count": 14,
   "metadata": {},
   "outputs": [
    {
     "data": {
      "text/html": [
       "<div>\n",
       "<style scoped>\n",
       "    .dataframe tbody tr th:only-of-type {\n",
       "        vertical-align: middle;\n",
       "    }\n",
       "\n",
       "    .dataframe tbody tr th {\n",
       "        vertical-align: top;\n",
       "    }\n",
       "\n",
       "    .dataframe thead th {\n",
       "        text-align: right;\n",
       "    }\n",
       "</style>\n",
       "<table border=\"1\" class=\"dataframe\">\n",
       "  <thead>\n",
       "    <tr style=\"text-align: right;\">\n",
       "      <th></th>\n",
       "      <th>id</th>\n",
       "      <th>host_total_listings_count</th>\n",
       "      <th>neighbourhood_group_cleansed</th>\n",
       "      <th>property_type</th>\n",
       "      <th>accommodates</th>\n",
       "      <th>bathrooms</th>\n",
       "      <th>bedrooms</th>\n",
       "      <th>beds</th>\n",
       "      <th>price</th>\n",
       "      <th>security_deposit</th>\n",
       "      <th>guests_included</th>\n",
       "      <th>minimum_nights</th>\n",
       "      <th>maximum_nights</th>\n",
       "      <th>review_scores_rating</th>\n",
       "      <th>reviews_per_month</th>\n",
       "    </tr>\n",
       "  </thead>\n",
       "  <tbody>\n",
       "    <tr>\n",
       "      <th>0</th>\n",
       "      <td>2015</td>\n",
       "      <td>7.0</td>\n",
       "      <td>Mitte</td>\n",
       "      <td>Guesthouse</td>\n",
       "      <td>3</td>\n",
       "      <td>1.0</td>\n",
       "      <td>1.0</td>\n",
       "      <td>2.0</td>\n",
       "      <td>$60.00</td>\n",
       "      <td>$250.00</td>\n",
       "      <td>1</td>\n",
       "      <td>6</td>\n",
       "      <td>1125</td>\n",
       "      <td>93.0</td>\n",
       "      <td>3.45</td>\n",
       "    </tr>\n",
       "  </tbody>\n",
       "</table>\n",
       "</div>"
      ],
      "text/plain": [
       "     id  host_total_listings_count neighbourhood_group_cleansed property_type  \\\n",
       "0  2015                        7.0                        Mitte    Guesthouse   \n",
       "\n",
       "   accommodates  bathrooms  bedrooms  beds   price security_deposit  \\\n",
       "0             3        1.0       1.0   2.0  $60.00          $250.00   \n",
       "\n",
       "   guests_included  minimum_nights  maximum_nights  review_scores_rating  \\\n",
       "0                1               6            1125                  93.0   \n",
       "\n",
       "   reviews_per_month  \n",
       "0               3.45  "
      ]
     },
     "execution_count": 14,
     "metadata": {},
     "output_type": "execute_result"
    }
   ],
   "source": [
    "listings2.head(1)"
   ]
  },
  {
   "cell_type": "code",
   "execution_count": 15,
   "metadata": {},
   "outputs": [
    {
     "name": "stdout",
     "output_type": "stream",
     "text": [
      "<class 'pandas.core.frame.DataFrame'>\n",
      "RangeIndex: 23614 entries, 0 to 23613\n",
      "Data columns (total 15 columns):\n",
      "id                              23614 non-null int64\n",
      "host_total_listings_count       23593 non-null float64\n",
      "neighbourhood_group_cleansed    23614 non-null object\n",
      "property_type                   23614 non-null object\n",
      "accommodates                    23614 non-null int64\n",
      "bathrooms                       23579 non-null float64\n",
      "bedrooms                        23592 non-null float64\n",
      "beds                            23563 non-null float64\n",
      "price                           23614 non-null object\n",
      "security_deposit                14073 non-null object\n",
      "guests_included                 23614 non-null int64\n",
      "minimum_nights                  23614 non-null int64\n",
      "maximum_nights                  23614 non-null int64\n",
      "review_scores_rating            18756 non-null float64\n",
      "reviews_per_month               19242 non-null float64\n",
      "dtypes: float64(6), int64(5), object(4)\n",
      "memory usage: 2.7+ MB\n"
     ]
    }
   ],
   "source": [
    "listings2.info()"
   ]
  },
  {
   "cell_type": "code",
   "execution_count": 16,
   "metadata": {},
   "outputs": [],
   "source": [
    "# Checking missing values in rows\n",
    "missing_rows = listings2.isnull().sum(axis=1)"
   ]
  },
  {
   "cell_type": "code",
   "execution_count": 17,
   "metadata": {},
   "outputs": [
    {
     "data": {
      "text/plain": [
       "547      5\n",
       "578      5\n",
       "839      5\n",
       "841      5\n",
       "842      5\n",
       "1306     5\n",
       "1969     5\n",
       "42       4\n",
       "1052     4\n",
       "4217     4\n",
       "4829     4\n",
       "4900     4\n",
       "4905     4\n",
       "4909     4\n",
       "4929     4\n",
       "5529     4\n",
       "7978     4\n",
       "8152     4\n",
       "9886     4\n",
       "19310    4\n",
       "dtype: int64"
      ]
     },
     "execution_count": 17,
     "metadata": {},
     "output_type": "execute_result"
    }
   ],
   "source": [
    "missing_rows.nlargest(20) #largest missing values for each row"
   ]
  },
  {
   "cell_type": "code",
   "execution_count": 18,
   "metadata": {},
   "outputs": [
    {
     "data": {
      "text/plain": [
       "Text(0,0.5,'rows')"
      ]
     },
     "execution_count": 18,
     "metadata": {},
     "output_type": "execute_result"
    },
    {
     "data": {
      "image/png": "[encoded data removed]",
      "text/plain": [
       "<Figure size 720x216 with 1 Axes>"
      ]
     },
     "metadata": {},
     "output_type": "display_data"
    }
   ],
   "source": [
    "plt.figure(figsize=(10,3))\n",
    "plt.hist(missing_rows, bins=10)\n",
    "plt.xlabel('missing values')\n",
    "plt.ylabel('rows')\n"
   ]
  },
  {
   "cell_type": "markdown",
   "metadata": {},
   "source": [
    "There are relatively few missing values in the rows. Therefore I will impute some numbers for them later in the analysis. "
   ]
  },
  {
   "cell_type": "code",
   "execution_count": 19,
   "metadata": {},
   "outputs": [],
   "source": [
    "cat_df = listings2.select_dtypes(include=['object']) #checking not numerical features"
   ]
  },
  {
   "cell_type": "code",
   "execution_count": 20,
   "metadata": {},
   "outputs": [
    {
     "data": {
      "text/html": [
       "<div>\n",
       "<style scoped>\n",
       "    .dataframe tbody tr th:only-of-type {\n",
       "        vertical-align: middle;\n",
       "    }\n",
       "\n",
       "    .dataframe tbody tr th {\n",
       "        vertical-align: top;\n",
       "    }\n",
       "\n",
       "    .dataframe thead th {\n",
       "        text-align: right;\n",
       "    }\n",
       "</style>\n",
       "<table border=\"1\" class=\"dataframe\">\n",
       "  <thead>\n",
       "    <tr style=\"text-align: right;\">\n",
       "      <th></th>\n",
       "      <th>neighbourhood_group_cleansed</th>\n",
       "      <th>property_type</th>\n",
       "      <th>price</th>\n",
       "      <th>security_deposit</th>\n",
       "    </tr>\n",
       "  </thead>\n",
       "  <tbody>\n",
       "    <tr>\n",
       "      <th>0</th>\n",
       "      <td>Mitte</td>\n",
       "      <td>Guesthouse</td>\n",
       "      <td>$60.00</td>\n",
       "      <td>$250.00</td>\n",
       "    </tr>\n",
       "  </tbody>\n",
       "</table>\n",
       "</div>"
      ],
      "text/plain": [
       "  neighbourhood_group_cleansed property_type   price security_deposit\n",
       "0                        Mitte    Guesthouse  $60.00          $250.00"
      ]
     },
     "execution_count": 20,
     "metadata": {},
     "output_type": "execute_result"
    }
   ],
   "source": [
    "cat_df.head(1)"
   ]
  },
  {
   "cell_type": "code",
   "execution_count": 21,
   "metadata": {},
   "outputs": [],
   "source": [
    "# Turning price and security_deposit features into numeric ones and removig the $ sign\n",
    "object_feat = ['price','security_deposit']\n",
    "for col in object_feat:\n",
    "    listings2[col] = listings2[col].apply(lambda x : x[1:].replace(\",\", \"\") if str(x).startswith(\"$\") else x)\n",
    "\n",
    "listings2[object_feat] = listings2[object_feat].astype(float)"
   ]
  },
  {
   "cell_type": "code",
   "execution_count": 22,
   "metadata": {},
   "outputs": [],
   "source": [
    "cat_df2 = listings2.select_dtypes(include=['object']) # sanity check"
   ]
  },
  {
   "cell_type": "code",
   "execution_count": 23,
   "metadata": {},
   "outputs": [
    {
     "data": {
      "text/html": [
       "<div>\n",
       "<style scoped>\n",
       "    .dataframe tbody tr th:only-of-type {\n",
       "        vertical-align: middle;\n",
       "    }\n",
       "\n",
       "    .dataframe tbody tr th {\n",
       "        vertical-align: top;\n",
       "    }\n",
       "\n",
       "    .dataframe thead th {\n",
       "        text-align: right;\n",
       "    }\n",
       "</style>\n",
       "<table border=\"1\" class=\"dataframe\">\n",
       "  <thead>\n",
       "    <tr style=\"text-align: right;\">\n",
       "      <th></th>\n",
       "      <th>neighbourhood_group_cleansed</th>\n",
       "      <th>property_type</th>\n",
       "    </tr>\n",
       "  </thead>\n",
       "  <tbody>\n",
       "    <tr>\n",
       "      <th>0</th>\n",
       "      <td>Mitte</td>\n",
       "      <td>Guesthouse</td>\n",
       "    </tr>\n",
       "  </tbody>\n",
       "</table>\n",
       "</div>"
      ],
      "text/plain": [
       "  neighbourhood_group_cleansed property_type\n",
       "0                        Mitte    Guesthouse"
      ]
     },
     "execution_count": 23,
     "metadata": {},
     "output_type": "execute_result"
    }
   ],
   "source": [
    "cat_df2.head(1)"
   ]
  },
  {
   "cell_type": "code",
   "execution_count": 24,
   "metadata": {},
   "outputs": [
    {
     "data": {
      "text/html": [
       "<div>\n",
       "<style scoped>\n",
       "    .dataframe tbody tr th:only-of-type {\n",
       "        vertical-align: middle;\n",
       "    }\n",
       "\n",
       "    .dataframe tbody tr th {\n",
       "        vertical-align: top;\n",
       "    }\n",
       "\n",
       "    .dataframe thead th {\n",
       "        text-align: right;\n",
       "    }\n",
       "</style>\n",
       "<table border=\"1\" class=\"dataframe\">\n",
       "  <thead>\n",
       "    <tr style=\"text-align: right;\">\n",
       "      <th></th>\n",
       "      <th>id</th>\n",
       "      <th>host_total_listings_count</th>\n",
       "      <th>neighbourhood_group_cleansed</th>\n",
       "      <th>property_type</th>\n",
       "      <th>accommodates</th>\n",
       "      <th>bathrooms</th>\n",
       "      <th>bedrooms</th>\n",
       "      <th>beds</th>\n",
       "      <th>price</th>\n",
       "      <th>security_deposit</th>\n",
       "      <th>guests_included</th>\n",
       "      <th>minimum_nights</th>\n",
       "      <th>maximum_nights</th>\n",
       "      <th>review_scores_rating</th>\n",
       "      <th>reviews_per_month</th>\n",
       "    </tr>\n",
       "  </thead>\n",
       "  <tbody>\n",
       "    <tr>\n",
       "      <th>0</th>\n",
       "      <td>2015</td>\n",
       "      <td>7.0</td>\n",
       "      <td>Mitte</td>\n",
       "      <td>Guesthouse</td>\n",
       "      <td>3</td>\n",
       "      <td>1.0</td>\n",
       "      <td>1.0</td>\n",
       "      <td>2.0</td>\n",
       "      <td>60.0</td>\n",
       "      <td>250.0</td>\n",
       "      <td>1</td>\n",
       "      <td>6</td>\n",
       "      <td>1125</td>\n",
       "      <td>93.0</td>\n",
       "      <td>3.45</td>\n",
       "    </tr>\n",
       "  </tbody>\n",
       "</table>\n",
       "</div>"
      ],
      "text/plain": [
       "     id  host_total_listings_count neighbourhood_group_cleansed property_type  \\\n",
       "0  2015                        7.0                        Mitte    Guesthouse   \n",
       "\n",
       "   accommodates  bathrooms  bedrooms  beds  price  security_deposit  \\\n",
       "0             3        1.0       1.0   2.0   60.0             250.0   \n",
       "\n",
       "   guests_included  minimum_nights  maximum_nights  review_scores_rating  \\\n",
       "0                1               6            1125                  93.0   \n",
       "\n",
       "   reviews_per_month  \n",
       "0               3.45  "
      ]
     },
     "execution_count": 24,
     "metadata": {},
     "output_type": "execute_result"
    }
   ],
   "source": [
    "listings2.head(1)"
   ]
  },
  {
   "cell_type": "markdown",
   "metadata": {},
   "source": [
    "I also create dummy variables for the future regression analysis"
   ]
  },
  {
   "cell_type": "code",
   "execution_count": 25,
   "metadata": {},
   "outputs": [],
   "source": [
    "dummy1 = pd.get_dummies(listings2['neighbourhood_group_cleansed'])"
   ]
  },
  {
   "cell_type": "code",
   "execution_count": 26,
   "metadata": {},
   "outputs": [],
   "source": [
    "listings3 = pd.concat([listings2, dummy1], axis=1)"
   ]
  },
  {
   "cell_type": "code",
   "execution_count": 27,
   "metadata": {},
   "outputs": [],
   "source": [
    "dummy2 = pd.get_dummies(listings2['property_type'])"
   ]
  },
  {
   "cell_type": "code",
   "execution_count": 28,
   "metadata": {},
   "outputs": [],
   "source": [
    "listings4 = pd.concat([listings3, dummy2], axis=1)"
   ]
  },
  {
   "cell_type": "code",
   "execution_count": 29,
   "metadata": {},
   "outputs": [
    {
     "data": {
      "text/html": [
       "<div>\n",
       "<style scoped>\n",
       "    .dataframe tbody tr th:only-of-type {\n",
       "        vertical-align: middle;\n",
       "    }\n",
       "\n",
       "    .dataframe tbody tr th {\n",
       "        vertical-align: top;\n",
       "    }\n",
       "\n",
       "    .dataframe thead th {\n",
       "        text-align: right;\n",
       "    }\n",
       "</style>\n",
       "<table border=\"1\" class=\"dataframe\">\n",
       "  <thead>\n",
       "    <tr style=\"text-align: right;\">\n",
       "      <th></th>\n",
       "      <th>id</th>\n",
       "      <th>host_total_listings_count</th>\n",
       "      <th>neighbourhood_group_cleansed</th>\n",
       "      <th>property_type</th>\n",
       "      <th>accommodates</th>\n",
       "      <th>bathrooms</th>\n",
       "      <th>bedrooms</th>\n",
       "      <th>beds</th>\n",
       "      <th>price</th>\n",
       "      <th>security_deposit</th>\n",
       "      <th>...</th>\n",
       "      <th>Pension (South Korea)</th>\n",
       "      <th>Resort</th>\n",
       "      <th>Serviced apartment</th>\n",
       "      <th>Tiny house</th>\n",
       "      <th>Tipi</th>\n",
       "      <th>Townhouse</th>\n",
       "      <th>Train</th>\n",
       "      <th>Treehouse</th>\n",
       "      <th>Vacation home</th>\n",
       "      <th>Villa</th>\n",
       "    </tr>\n",
       "  </thead>\n",
       "  <tbody>\n",
       "    <tr>\n",
       "      <th>0</th>\n",
       "      <td>2015</td>\n",
       "      <td>7.0</td>\n",
       "      <td>Mitte</td>\n",
       "      <td>Guesthouse</td>\n",
       "      <td>3</td>\n",
       "      <td>1.0</td>\n",
       "      <td>1.0</td>\n",
       "      <td>2.0</td>\n",
       "      <td>60.0</td>\n",
       "      <td>250.0</td>\n",
       "      <td>...</td>\n",
       "      <td>0</td>\n",
       "      <td>0</td>\n",
       "      <td>0</td>\n",
       "      <td>0</td>\n",
       "      <td>0</td>\n",
       "      <td>0</td>\n",
       "      <td>0</td>\n",
       "      <td>0</td>\n",
       "      <td>0</td>\n",
       "      <td>0</td>\n",
       "    </tr>\n",
       "  </tbody>\n",
       "</table>\n",
       "<p>1 rows × 62 columns</p>\n",
       "</div>"
      ],
      "text/plain": [
       "     id  host_total_listings_count neighbourhood_group_cleansed property_type  \\\n",
       "0  2015                        7.0                        Mitte    Guesthouse   \n",
       "\n",
       "   accommodates  bathrooms  bedrooms  beds  price  security_deposit  ...    \\\n",
       "0             3        1.0       1.0   2.0   60.0             250.0  ...     \n",
       "\n",
       "   Pension (South Korea)  Resort  Serviced apartment  Tiny house  Tipi  \\\n",
       "0                      0       0                   0           0     0   \n",
       "\n",
       "   Townhouse  Train  Treehouse  Vacation home  Villa  \n",
       "0          0      0          0              0      0  \n",
       "\n",
       "[1 rows x 62 columns]"
      ]
     },
     "execution_count": 29,
     "metadata": {},
     "output_type": "execute_result"
    }
   ],
   "source": [
    "listings4.head(1)# sanity check"
   ]
  },
  {
   "cell_type": "code",
   "execution_count": 30,
   "metadata": {},
   "outputs": [
    {
     "data": {
      "text/plain": [
       "(23614, 62)"
      ]
     },
     "execution_count": 30,
     "metadata": {},
     "output_type": "execute_result"
    }
   ],
   "source": [
    "listings4.shape"
   ]
  },
  {
   "cell_type": "code",
   "execution_count": 31,
   "metadata": {},
   "outputs": [
    {
     "name": "stdout",
     "output_type": "stream",
     "text": [
      "<class 'pandas.core.frame.DataFrame'>\n",
      "RangeIndex: 23614 entries, 0 to 23613\n",
      "Data columns (total 62 columns):\n",
      "id                              23614 non-null int64\n",
      "host_total_listings_count       23593 non-null float64\n",
      "neighbourhood_group_cleansed    23614 non-null object\n",
      "property_type                   23614 non-null object\n",
      "accommodates                    23614 non-null int64\n",
      "bathrooms                       23579 non-null float64\n",
      "bedrooms                        23592 non-null float64\n",
      "beds                            23563 non-null float64\n",
      "price                           23614 non-null float64\n",
      "security_deposit                14073 non-null float64\n",
      "guests_included                 23614 non-null int64\n",
      "minimum_nights                  23614 non-null int64\n",
      "maximum_nights                  23614 non-null int64\n",
      "review_scores_rating            18756 non-null float64\n",
      "reviews_per_month               19242 non-null float64\n",
      "Charlottenburg-Wilm.            23614 non-null uint8\n",
      "Friedrichshain-Kreuzberg        23614 non-null uint8\n",
      "Lichtenberg                     23614 non-null uint8\n",
      "Marzahn - Hellersdorf           23614 non-null uint8\n",
      "Mitte                           23614 non-null uint8\n",
      "Neukölln                        23614 non-null uint8\n",
      "Pankow                          23614 non-null uint8\n",
      "Reinickendorf                   23614 non-null uint8\n",
      "Spandau                         23614 non-null uint8\n",
      "Steglitz - Zehlendorf           23614 non-null uint8\n",
      "Tempelhof - Schöneberg          23614 non-null uint8\n",
      "Treptow - Köpenick              23614 non-null uint8\n",
      "Aparthotel                      23614 non-null uint8\n",
      "Apartment                       23614 non-null uint8\n",
      "Barn                            23614 non-null uint8\n",
      "Bed and breakfast               23614 non-null uint8\n",
      "Boat                            23614 non-null uint8\n",
      "Boutique hotel                  23614 non-null uint8\n",
      "Bungalow                        23614 non-null uint8\n",
      "Cabin                           23614 non-null uint8\n",
      "Camper/RV                       23614 non-null uint8\n",
      "Casa particular (Cuba)          23614 non-null uint8\n",
      "Castle                          23614 non-null uint8\n",
      "Cave                            23614 non-null uint8\n",
      "Chalet                          23614 non-null uint8\n",
      "Condominium                     23614 non-null uint8\n",
      "Cottage                         23614 non-null uint8\n",
      "Earth house                     23614 non-null uint8\n",
      "Guest suite                     23614 non-null uint8\n",
      "Guesthouse                      23614 non-null uint8\n",
      "Hostel                          23614 non-null uint8\n",
      "Hotel                           23614 non-null uint8\n",
      "House                           23614 non-null uint8\n",
      "Houseboat                       23614 non-null uint8\n",
      "Hut                             23614 non-null uint8\n",
      "Loft                            23614 non-null uint8\n",
      "Other                           23614 non-null uint8\n",
      "Pension (South Korea)           23614 non-null uint8\n",
      "Resort                          23614 non-null uint8\n",
      "Serviced apartment              23614 non-null uint8\n",
      "Tiny house                      23614 non-null uint8\n",
      "Tipi                            23614 non-null uint8\n",
      "Townhouse                       23614 non-null uint8\n",
      "Train                           23614 non-null uint8\n",
      "Treehouse                       23614 non-null uint8\n",
      "Vacation home                   23614 non-null uint8\n",
      "Villa                           23614 non-null uint8\n",
      "dtypes: float64(8), int64(5), object(2), uint8(47)\n",
      "memory usage: 3.8+ MB\n"
     ]
    }
   ],
   "source": [
    "listings4.info()"
   ]
  },
  {
   "cell_type": "code",
   "execution_count": 32,
   "metadata": {},
   "outputs": [],
   "source": [
    "# Renaming columns for better clarity\n",
    "listings4.rename(columns = {'neighbourhood_group_cleansed':'neighbourhood'}, inplace = True)"
   ]
  },
  {
   "cell_type": "code",
   "execution_count": 33,
   "metadata": {},
   "outputs": [
    {
     "data": {
      "text/html": [
       "<div>\n",
       "<style scoped>\n",
       "    .dataframe tbody tr th:only-of-type {\n",
       "        vertical-align: middle;\n",
       "    }\n",
       "\n",
       "    .dataframe tbody tr th {\n",
       "        vertical-align: top;\n",
       "    }\n",
       "\n",
       "    .dataframe thead th {\n",
       "        text-align: right;\n",
       "    }\n",
       "</style>\n",
       "<table border=\"1\" class=\"dataframe\">\n",
       "  <thead>\n",
       "    <tr style=\"text-align: right;\">\n",
       "      <th></th>\n",
       "      <th>id</th>\n",
       "      <th>host_total_listings_count</th>\n",
       "      <th>neighbourhood</th>\n",
       "      <th>property_type</th>\n",
       "      <th>accommodates</th>\n",
       "      <th>bathrooms</th>\n",
       "      <th>bedrooms</th>\n",
       "      <th>beds</th>\n",
       "      <th>price</th>\n",
       "      <th>security_deposit</th>\n",
       "      <th>...</th>\n",
       "      <th>Pension (South Korea)</th>\n",
       "      <th>Resort</th>\n",
       "      <th>Serviced apartment</th>\n",
       "      <th>Tiny house</th>\n",
       "      <th>Tipi</th>\n",
       "      <th>Townhouse</th>\n",
       "      <th>Train</th>\n",
       "      <th>Treehouse</th>\n",
       "      <th>Vacation home</th>\n",
       "      <th>Villa</th>\n",
       "    </tr>\n",
       "  </thead>\n",
       "  <tbody>\n",
       "    <tr>\n",
       "      <th>0</th>\n",
       "      <td>2015</td>\n",
       "      <td>7.0</td>\n",
       "      <td>Mitte</td>\n",
       "      <td>Guesthouse</td>\n",
       "      <td>3</td>\n",
       "      <td>1.0</td>\n",
       "      <td>1.0</td>\n",
       "      <td>2.0</td>\n",
       "      <td>60.0</td>\n",
       "      <td>250.0</td>\n",
       "      <td>...</td>\n",
       "      <td>0</td>\n",
       "      <td>0</td>\n",
       "      <td>0</td>\n",
       "      <td>0</td>\n",
       "      <td>0</td>\n",
       "      <td>0</td>\n",
       "      <td>0</td>\n",
       "      <td>0</td>\n",
       "      <td>0</td>\n",
       "      <td>0</td>\n",
       "    </tr>\n",
       "  </tbody>\n",
       "</table>\n",
       "<p>1 rows × 62 columns</p>\n",
       "</div>"
      ],
      "text/plain": [
       "     id  host_total_listings_count neighbourhood property_type  accommodates  \\\n",
       "0  2015                        7.0         Mitte    Guesthouse             3   \n",
       "\n",
       "   bathrooms  bedrooms  beds  price  security_deposit  ...    \\\n",
       "0        1.0       1.0   2.0   60.0             250.0  ...     \n",
       "\n",
       "   Pension (South Korea)  Resort  Serviced apartment  Tiny house  Tipi  \\\n",
       "0                      0       0                   0           0     0   \n",
       "\n",
       "   Townhouse  Train  Treehouse  Vacation home  Villa  \n",
       "0          0      0          0              0      0  \n",
       "\n",
       "[1 rows x 62 columns]"
      ]
     },
     "execution_count": 33,
     "metadata": {},
     "output_type": "execute_result"
    }
   ],
   "source": [
    "listings4.head(1)"
   ]
  },
  {
   "cell_type": "markdown",
   "metadata": {},
   "source": [
    "## Analysis and Business Questions: business and data understanding"
   ]
  },
  {
   "cell_type": "markdown",
   "metadata": {},
   "source": [
    "    Based on the above Berlin AirBnB data I will try to answer following questions:\n",
    "    \n",
    "    1. Which neighbourhoods in Berlin have most accomodations on AirBnB?\n",
    "    \n",
    "    2. Which neighbourhoods have best user ratings?\n",
    "    \n",
    "    3. Which neighbourhoods have the best/lowest price in Berlin?\n",
    "    \n",
    "    4. What are the most important factors for the price \n",
    "       of an AirBnB accommodation in Berlin?\n",
    "    "
   ]
  },
  {
   "cell_type": "markdown",
   "metadata": {},
   "source": [
    "### 1. What are the most frequent neighbourhoods for accommodations on AirBnB in Berlin?"
   ]
  },
  {
   "cell_type": "code",
   "execution_count": 34,
   "metadata": {},
   "outputs": [],
   "source": [
    "# Providing pandas series for each neigbourhood\n",
    "neighbourhoods = listings4.neighbourhood.value_counts()"
   ]
  },
  {
   "cell_type": "code",
   "execution_count": 35,
   "metadata": {},
   "outputs": [
    {
     "data": {
      "image/png": "[encoded data removed]",
      "text/plain": [
       "<Figure size 432x288 with 1 Axes>"
      ]
     },
     "metadata": {},
     "output_type": "display_data"
    }
   ],
   "source": [
    "# Plotting the values\n",
    "(neighbourhoods/listings4.shape[0]).plot(kind=\"bar\");\n",
    "plt.title(\"Most frequent accommodation neighbourhoods in Berlin\");"
   ]
  },
  {
   "cell_type": "markdown",
   "metadata": {},
   "source": [
    "### 2. Which neighbourhoods have the best ratings?"
   ]
  },
  {
   "cell_type": "code",
   "execution_count": 36,
   "metadata": {},
   "outputs": [
    {
     "data": {
      "text/plain": [
       "neighbourhood\n",
       "Charlottenburg-Wilm.        93.757364\n",
       "Friedrichshain-Kreuzberg    94.716350\n",
       "Lichtenberg                 94.428312\n",
       "Marzahn - Hellersdorf       95.262136\n",
       "Mitte                       93.760786\n",
       "Neukölln                    94.691003\n",
       "Pankow                      94.874580\n",
       "Reinickendorf               94.251163\n",
       "Spandau                     94.368421\n",
       "Steglitz - Zehlendorf       95.662791\n",
       "Tempelhof - Schöneberg      94.946032\n",
       "Treptow - Köpenick          95.068607\n",
       "Name: review_scores_rating, dtype: float64"
      ]
     },
     "execution_count": 36,
     "metadata": {},
     "output_type": "execute_result"
    }
   ],
   "source": [
    "# Which neighbourhoods have the highest average ratings?\n",
    "listings4.groupby(['neighbourhood']).mean()['review_scores_rating']"
   ]
  },
  {
   "cell_type": "code",
   "execution_count": 37,
   "metadata": {},
   "outputs": [],
   "source": [
    "highest_rating = listings4.groupby(['neighbourhood']).mean()['review_scores_rating']\n"
   ]
  },
  {
   "cell_type": "code",
   "execution_count": 38,
   "metadata": {},
   "outputs": [
    {
     "data": {
      "image/png": "[encoded data removed]",
      "text/plain": [
       "<Figure size 432x288 with 1 Axes>"
      ]
     },
     "metadata": {},
     "output_type": "display_data"
    }
   ],
   "source": [
    "(highest_rating/listings4.shape[0]).plot(kind=\"bar\");\n",
    "plt.title(\"Neighbourhoods according to the highest average ratings\");"
   ]
  },
  {
   "cell_type": "markdown",
   "metadata": {},
   "source": [
    "There are almost no differences in ratings between neighbourhoods. "
   ]
  },
  {
   "cell_type": "markdown",
   "metadata": {},
   "source": [
    "### 3. Which neighbourhoods have the best price?"
   ]
  },
  {
   "cell_type": "markdown",
   "metadata": {},
   "source": [
    "First I check for the outliers in price"
   ]
  },
  {
   "cell_type": "code",
   "execution_count": 39,
   "metadata": {},
   "outputs": [
    {
     "data": {
      "text/plain": [
       "<matplotlib.axes._subplots.AxesSubplot at 0x1f51a0c3d30>"
      ]
     },
     "execution_count": 39,
     "metadata": {},
     "output_type": "execute_result"
    },
    {
     "data": {
      "image/png": "[encoded data removed]",
      "text/plain": [
       "<Figure size 720x360 with 1 Axes>"
      ]
     },
     "metadata": {},
     "output_type": "display_data"
    }
   ],
   "source": [
    "listings4.boxplot(column='price', figsize = (10,5))"
   ]
  },
  {
   "cell_type": "markdown",
   "metadata": {},
   "source": [
    "There are some outliers, therefore I will compute the mean and median for the price. "
   ]
  },
  {
   "cell_type": "code",
   "execution_count": 40,
   "metadata": {},
   "outputs": [
    {
     "data": {
      "text/plain": [
       "neighbourhood\n",
       "Reinickendorf                43.506849\n",
       "Neukölln                     47.807534\n",
       "Treptow - Köpenick           53.812698\n",
       "Lichtenberg                  54.700134\n",
       "Marzahn - Hellersdorf        60.496454\n",
       "Steglitz - Zehlendorf        60.521253\n",
       "Spandau                      61.635659\n",
       "Friedrichshain-Kreuzberg     61.959714\n",
       "Pankow                       70.469504\n",
       "Mitte                        71.216749\n",
       "Tempelhof - Schöneberg       97.334584\n",
       "Charlottenburg-Wilm.        109.100177\n",
       "Name: price, dtype: float64"
      ]
     },
     "execution_count": 40,
     "metadata": {},
     "output_type": "execute_result"
    }
   ],
   "source": [
    "# Neighborhoods listed by the average price\n",
    "listings4.groupby(['neighbourhood']).mean()['price'].sort_values()"
   ]
  },
  {
   "cell_type": "code",
   "execution_count": 41,
   "metadata": {},
   "outputs": [
    {
     "data": {
      "text/plain": [
       "neighbourhood\n",
       "Reinickendorf               35.0\n",
       "Lichtenberg                 39.0\n",
       "Spandau                     39.0\n",
       "Neukölln                    40.0\n",
       "Steglitz - Zehlendorf       45.0\n",
       "Tempelhof - Schöneberg      45.0\n",
       "Treptow - Köpenick          45.0\n",
       "Friedrichshain-Kreuzberg    49.0\n",
       "Charlottenburg-Wilm.        50.0\n",
       "Marzahn - Hellersdorf       50.0\n",
       "Mitte                       50.0\n",
       "Pankow                      51.0\n",
       "Name: price, dtype: float64"
      ]
     },
     "execution_count": 41,
     "metadata": {},
     "output_type": "execute_result"
    }
   ],
   "source": [
    "#Neighbourhoods listed by the median price\n",
    "listings4.groupby('neighbourhood')['price'].median().sort_values(ascending=True)"
   ]
  },
  {
   "cell_type": "markdown",
   "metadata": {},
   "source": [
    "There are not that many differences between median and mean. Basically two neigbourhods vary: Marzahn - Hellersdorf and Tempelhof. "
   ]
  },
  {
   "cell_type": "code",
   "execution_count": 42,
   "metadata": {},
   "outputs": [],
   "source": [
    "mean = listings4.groupby(['neighbourhood']).mean()['price'].sort_values()"
   ]
  },
  {
   "cell_type": "code",
   "execution_count": 43,
   "metadata": {},
   "outputs": [
    {
     "data": {
      "image/png": "[encoded data removed]",
      "text/plain": [
       "<Figure size 432x288 with 1 Axes>"
      ]
     },
     "metadata": {},
     "output_type": "display_data"
    }
   ],
   "source": [
    "(mean/listings4.shape[0]).plot(kind=\"bar\");\n",
    "plt.title(\"Neighbourhoods according to the highest average price\");"
   ]
  },
  {
   "cell_type": "code",
   "execution_count": 44,
   "metadata": {},
   "outputs": [],
   "source": [
    "median = listings4.groupby('neighbourhood')['price'].median().sort_values()"
   ]
  },
  {
   "cell_type": "code",
   "execution_count": 45,
   "metadata": {},
   "outputs": [
    {
     "data": {
      "image/png": "[encoded data removed]",
      "text/plain": [
       "<Figure size 432x288 with 1 Axes>"
      ]
     },
     "metadata": {},
     "output_type": "display_data"
    }
   ],
   "source": [
    "(median/listings4.shape[0]).plot(kind=\"bar\");\n",
    "plt.title(\"Neighbourhoods according to the highest median price\");"
   ]
  },
  {
   "cell_type": "markdown",
   "metadata": {},
   "source": [
    "### 4. What are the most important factors for the price of an AirBnB accommodation in Berlin?"
   ]
  },
  {
   "cell_type": "markdown",
   "metadata": {},
   "source": [
    "In order to answer this question I will perform  Ridge Regression on the Berlin dataset with some dummy features for neighbourhood and property type. "
   ]
  },
  {
   "cell_type": "code",
   "execution_count": 46,
   "metadata": {},
   "outputs": [],
   "source": [
    "listings5 = listings4.drop(['neighbourhood','property_type'], axis=1)"
   ]
  },
  {
   "cell_type": "code",
   "execution_count": 47,
   "metadata": {},
   "outputs": [],
   "source": [
    "fill_mode = lambda col: col.fillna(col.mode()[0])\n",
    "\n",
    "listings6 = listings5.apply(fill_mode, axis=0)"
   ]
  },
  {
   "cell_type": "code",
   "execution_count": 48,
   "metadata": {},
   "outputs": [
    {
     "data": {
      "text/html": [
       "<div>\n",
       "<style scoped>\n",
       "    .dataframe tbody tr th:only-of-type {\n",
       "        vertical-align: middle;\n",
       "    }\n",
       "\n",
       "    .dataframe tbody tr th {\n",
       "        vertical-align: top;\n",
       "    }\n",
       "\n",
       "    .dataframe thead th {\n",
       "        text-align: right;\n",
       "    }\n",
       "</style>\n",
       "<table border=\"1\" class=\"dataframe\">\n",
       "  <thead>\n",
       "    <tr style=\"text-align: right;\">\n",
       "      <th></th>\n",
       "      <th>id</th>\n",
       "      <th>host_total_listings_count</th>\n",
       "      <th>accommodates</th>\n",
       "      <th>bathrooms</th>\n",
       "      <th>bedrooms</th>\n",
       "      <th>beds</th>\n",
       "      <th>price</th>\n",
       "      <th>security_deposit</th>\n",
       "      <th>guests_included</th>\n",
       "      <th>minimum_nights</th>\n",
       "      <th>...</th>\n",
       "      <th>Pension (South Korea)</th>\n",
       "      <th>Resort</th>\n",
       "      <th>Serviced apartment</th>\n",
       "      <th>Tiny house</th>\n",
       "      <th>Tipi</th>\n",
       "      <th>Townhouse</th>\n",
       "      <th>Train</th>\n",
       "      <th>Treehouse</th>\n",
       "      <th>Vacation home</th>\n",
       "      <th>Villa</th>\n",
       "    </tr>\n",
       "  </thead>\n",
       "  <tbody>\n",
       "    <tr>\n",
       "      <th>0</th>\n",
       "      <td>2015</td>\n",
       "      <td>7.0</td>\n",
       "      <td>3</td>\n",
       "      <td>1.0</td>\n",
       "      <td>1.0</td>\n",
       "      <td>2.0</td>\n",
       "      <td>60.0</td>\n",
       "      <td>250.0</td>\n",
       "      <td>1</td>\n",
       "      <td>6</td>\n",
       "      <td>...</td>\n",
       "      <td>0</td>\n",
       "      <td>0</td>\n",
       "      <td>0</td>\n",
       "      <td>0</td>\n",
       "      <td>0</td>\n",
       "      <td>0</td>\n",
       "      <td>0</td>\n",
       "      <td>0</td>\n",
       "      <td>0</td>\n",
       "      <td>0</td>\n",
       "    </tr>\n",
       "  </tbody>\n",
       "</table>\n",
       "<p>1 rows × 60 columns</p>\n",
       "</div>"
      ],
      "text/plain": [
       "     id  host_total_listings_count  accommodates  bathrooms  bedrooms  beds  \\\n",
       "0  2015                        7.0             3        1.0       1.0   2.0   \n",
       "\n",
       "   price  security_deposit  guests_included  minimum_nights  ...    \\\n",
       "0   60.0             250.0                1               6  ...     \n",
       "\n",
       "   Pension (South Korea)  Resort  Serviced apartment  Tiny house  Tipi  \\\n",
       "0                      0       0                   0           0     0   \n",
       "\n",
       "   Townhouse  Train  Treehouse  Vacation home  Villa  \n",
       "0          0      0          0              0      0  \n",
       "\n",
       "[1 rows x 60 columns]"
      ]
     },
     "execution_count": 48,
     "metadata": {},
     "output_type": "execute_result"
    }
   ],
   "source": [
    "listings6.head(1)"
   ]
  },
  {
   "cell_type": "code",
   "execution_count": 49,
   "metadata": {},
   "outputs": [],
   "source": [
    "listings7 = listings6.fillna(0)"
   ]
  },
  {
   "cell_type": "code",
   "execution_count": 50,
   "metadata": {},
   "outputs": [],
   "source": [
    "\n",
    "y = listings7['price']\n",
    "\n"
   ]
  },
  {
   "cell_type": "code",
   "execution_count": 51,
   "metadata": {},
   "outputs": [],
   "source": [
    "X = listings7.drop(['price'], axis=1)"
   ]
  },
  {
   "cell_type": "code",
   "execution_count": 52,
   "metadata": {},
   "outputs": [
    {
     "data": {
      "text/html": [
       "<div>\n",
       "<style scoped>\n",
       "    .dataframe tbody tr th:only-of-type {\n",
       "        vertical-align: middle;\n",
       "    }\n",
       "\n",
       "    .dataframe tbody tr th {\n",
       "        vertical-align: top;\n",
       "    }\n",
       "\n",
       "    .dataframe thead th {\n",
       "        text-align: right;\n",
       "    }\n",
       "</style>\n",
       "<table border=\"1\" class=\"dataframe\">\n",
       "  <thead>\n",
       "    <tr style=\"text-align: right;\">\n",
       "      <th></th>\n",
       "      <th>id</th>\n",
       "      <th>host_total_listings_count</th>\n",
       "      <th>accommodates</th>\n",
       "      <th>bathrooms</th>\n",
       "      <th>bedrooms</th>\n",
       "      <th>beds</th>\n",
       "      <th>security_deposit</th>\n",
       "      <th>guests_included</th>\n",
       "      <th>minimum_nights</th>\n",
       "      <th>maximum_nights</th>\n",
       "      <th>...</th>\n",
       "      <th>Pension (South Korea)</th>\n",
       "      <th>Resort</th>\n",
       "      <th>Serviced apartment</th>\n",
       "      <th>Tiny house</th>\n",
       "      <th>Tipi</th>\n",
       "      <th>Townhouse</th>\n",
       "      <th>Train</th>\n",
       "      <th>Treehouse</th>\n",
       "      <th>Vacation home</th>\n",
       "      <th>Villa</th>\n",
       "    </tr>\n",
       "  </thead>\n",
       "  <tbody>\n",
       "    <tr>\n",
       "      <th>0</th>\n",
       "      <td>2015</td>\n",
       "      <td>7.0</td>\n",
       "      <td>3</td>\n",
       "      <td>1.0</td>\n",
       "      <td>1.0</td>\n",
       "      <td>2.0</td>\n",
       "      <td>250.0</td>\n",
       "      <td>1</td>\n",
       "      <td>6</td>\n",
       "      <td>1125</td>\n",
       "      <td>...</td>\n",
       "      <td>0</td>\n",
       "      <td>0</td>\n",
       "      <td>0</td>\n",
       "      <td>0</td>\n",
       "      <td>0</td>\n",
       "      <td>0</td>\n",
       "      <td>0</td>\n",
       "      <td>0</td>\n",
       "      <td>0</td>\n",
       "      <td>0</td>\n",
       "    </tr>\n",
       "  </tbody>\n",
       "</table>\n",
       "<p>1 rows × 59 columns</p>\n",
       "</div>"
      ],
      "text/plain": [
       "     id  host_total_listings_count  accommodates  bathrooms  bedrooms  beds  \\\n",
       "0  2015                        7.0             3        1.0       1.0   2.0   \n",
       "\n",
       "   security_deposit  guests_included  minimum_nights  maximum_nights  ...    \\\n",
       "0             250.0                1               6            1125  ...     \n",
       "\n",
       "   Pension (South Korea)  Resort  Serviced apartment  Tiny house  Tipi  \\\n",
       "0                      0       0                   0           0     0   \n",
       "\n",
       "   Townhouse  Train  Treehouse  Vacation home  Villa  \n",
       "0          0      0          0              0      0  \n",
       "\n",
       "[1 rows x 59 columns]"
      ]
     },
     "execution_count": 52,
     "metadata": {},
     "output_type": "execute_result"
    }
   ],
   "source": [
    "X.head(1)"
   ]
  },
  {
   "cell_type": "code",
   "execution_count": 53,
   "metadata": {},
   "outputs": [],
   "source": [
    "# Source for this part of code is the Udacity Data Science Nanodegree course material\n",
    "\n",
    "def find_optimal_lm_mod(X, y, cutoffs, test_size = .30, random_state=42, plot=True):\n",
    "    '''\n",
    "    INPUT\n",
    "    X - pandas dataframe, X matrix\n",
    "    y - pandas dataframe, response variable\n",
    "    cutoffs - list of ints, cutoff for number of non-zero values in dummy categorical vars\n",
    "    test_size - float between 0 and 1, default 0.3, determines the proportion of data as test data\n",
    "    random_state - int, default 42, controls random state for train_test_split\n",
    "    plot - boolean, default 0.3, True to plot result\n",
    "\n",
    "    OUTPUT\n",
    "    r2_scores_test - list of floats of r2 scores on the test data\n",
    "    r2_scores_train - list of floats of r2 scores on the train data\n",
    "    lm_model - model object from sklearn\n",
    "    X_train, X_test, y_train, y_test - output from sklearn train test split used for optimal model\n",
    "    '''\n",
    "    r2_scores_test, r2_scores_train, num_feats, results = [], [], [], dict()\n",
    "    for cutoff in cutoffs:\n",
    "\n",
    "        #reduce X matrix\n",
    "        reduce_X = X.iloc[:, np.where((X.sum() > cutoff) == True)[0]]\n",
    "        num_feats.append(reduce_X.shape[1])\n",
    "\n",
    "        #split the data into train and test\n",
    "        X_train, X_test, y_train, y_test = train_test_split(reduce_X, y, test_size = test_size, random_state=random_state)\n",
    "\n",
    "        #fit the model and obtain pred response\n",
    "        lm_model = LinearRegression(normalize=True)\n",
    "        lm_model.fit(X_train, y_train)\n",
    "        y_test_preds = lm_model.predict(X_test)\n",
    "        y_train_preds = lm_model.predict(X_train)\n",
    "\n",
    "        #append the r2 value from the test set\n",
    "        r2_scores_test.append(r2_score(y_test, y_test_preds))\n",
    "        r2_scores_train.append(r2_score(y_train, y_train_preds))\n",
    "        results[str(cutoff)] = r2_score(y_test, y_test_preds)\n",
    "\n",
    "    if plot:\n",
    "        plt.plot(num_feats, r2_scores_test, label=\"Test\", alpha=.5)\n",
    "        plt.plot(num_feats, r2_scores_train, label=\"Train\", alpha=.5)\n",
    "        plt.xlabel('Number of Features')\n",
    "        plt.ylabel('Rsquared')\n",
    "        plt.title('Rsquared by Number of Features')\n",
    "        plt.legend(loc=1)\n",
    "        plt.show()\n",
    "\n",
    "    best_cutoff = max(results, key=results.get)\n",
    "\n",
    "    #reduce X matrix\n",
    "    reduce_X = X.iloc[:, np.where((X.sum() > int(best_cutoff)) == True)[0]]\n",
    "    num_feats.append(reduce_X.shape[1])\n",
    "\n",
    "    #split the data into train and test\n",
    "    X_train, X_test, y_train, y_test = train_test_split(reduce_X, y, test_size = test_size, random_state=random_state)\n",
    "\n",
    "    #fit the model\n",
    "    lm_model = LinearRegression(normalize=True)\n",
    "    lm_model.fit(X_train, y_train)\n",
    "\n",
    "    return r2_scores_test, r2_scores_train, lm_model, X_train, X_test, y_train, y_test"
   ]
  },
  {
   "cell_type": "code",
   "execution_count": 56,
   "metadata": {},
   "outputs": [
    {
     "data": {
      "image/png": "[encoded data removed]",
      "text/plain": [
       "<Figure size 432x288 with 1 Axes>"
      ]
     },
     "metadata": {},
     "output_type": "display_data"
    }
   ],
   "source": [
    "# Source for this part of code: Udacity Data Science Nanodegree course material\n",
    "# Cutoffs here pertains to the number of missing values allowed in the used columns.\n",
    "# Therefore, lower values for the cutoff provides more predictors in the model.\n",
    "cutoffs = [5000, 3500, 2500, 1000, 100, 50, 30, 25]\n",
    "\n",
    "r2_scores_test, r2_scores_train, lm_model, X_train, X_test, y_train, y_test = find_optimal_lm_mod(X, y, cutoffs)"
   ]
  },
  {
   "cell_type": "code",
   "execution_count": 57,
   "metadata": {},
   "outputs": [
    {
     "name": "stdout",
     "output_type": "stream",
     "text": [
      "37\n",
      "0.29275291300496187\n",
      "0.14740784499262216\n"
     ]
    }
   ],
   "source": [
    "# Source: Udacity Data Science Nanodegree course material\n",
    "print(X_train.shape[1]) #Number of columns\n",
    "print(r2_scores_test[np.argmax(r2_scores_test)]) # The model we should implement test_r2\n",
    "print(r2_scores_train[np.argmax(r2_scores_test)]) # The model we should implement train_r2"
   ]
  },
  {
   "cell_type": "code",
   "execution_count": 58,
   "metadata": {},
   "outputs": [
    {
     "data": {
      "text/html": [
       "<div>\n",
       "<style scoped>\n",
       "    .dataframe tbody tr th:only-of-type {\n",
       "        vertical-align: middle;\n",
       "    }\n",
       "\n",
       "    .dataframe tbody tr th {\n",
       "        vertical-align: top;\n",
       "    }\n",
       "\n",
       "    .dataframe thead th {\n",
       "        text-align: right;\n",
       "    }\n",
       "</style>\n",
       "<table border=\"1\" class=\"dataframe\">\n",
       "  <thead>\n",
       "    <tr style=\"text-align: right;\">\n",
       "      <th></th>\n",
       "      <th>est_int</th>\n",
       "      <th>coefs</th>\n",
       "      <th>abs_coefs</th>\n",
       "    </tr>\n",
       "  </thead>\n",
       "  <tbody>\n",
       "    <tr>\n",
       "      <th>12</th>\n",
       "      <td>Charlottenburg-Wilm.</td>\n",
       "      <td>2.499790e+13</td>\n",
       "      <td>2.499790e+13</td>\n",
       "    </tr>\n",
       "    <tr>\n",
       "      <th>16</th>\n",
       "      <td>Mitte</td>\n",
       "      <td>2.499790e+13</td>\n",
       "      <td>2.499790e+13</td>\n",
       "    </tr>\n",
       "    <tr>\n",
       "      <th>18</th>\n",
       "      <td>Pankow</td>\n",
       "      <td>2.499790e+13</td>\n",
       "      <td>2.499790e+13</td>\n",
       "    </tr>\n",
       "    <tr>\n",
       "      <th>13</th>\n",
       "      <td>Friedrichshain-Kreuzberg</td>\n",
       "      <td>2.499790e+13</td>\n",
       "      <td>2.499790e+13</td>\n",
       "    </tr>\n",
       "    <tr>\n",
       "      <th>14</th>\n",
       "      <td>Lichtenberg</td>\n",
       "      <td>2.499790e+13</td>\n",
       "      <td>2.499790e+13</td>\n",
       "    </tr>\n",
       "    <tr>\n",
       "      <th>22</th>\n",
       "      <td>Tempelhof - Schöneberg</td>\n",
       "      <td>2.499790e+13</td>\n",
       "      <td>2.499790e+13</td>\n",
       "    </tr>\n",
       "    <tr>\n",
       "      <th>21</th>\n",
       "      <td>Steglitz - Zehlendorf</td>\n",
       "      <td>2.499790e+13</td>\n",
       "      <td>2.499790e+13</td>\n",
       "    </tr>\n",
       "    <tr>\n",
       "      <th>17</th>\n",
       "      <td>Neukölln</td>\n",
       "      <td>2.499790e+13</td>\n",
       "      <td>2.499790e+13</td>\n",
       "    </tr>\n",
       "    <tr>\n",
       "      <th>23</th>\n",
       "      <td>Treptow - Köpenick</td>\n",
       "      <td>2.499790e+13</td>\n",
       "      <td>2.499790e+13</td>\n",
       "    </tr>\n",
       "    <tr>\n",
       "      <th>19</th>\n",
       "      <td>Reinickendorf</td>\n",
       "      <td>2.499790e+13</td>\n",
       "      <td>2.499790e+13</td>\n",
       "    </tr>\n",
       "    <tr>\n",
       "      <th>20</th>\n",
       "      <td>Spandau</td>\n",
       "      <td>2.499790e+13</td>\n",
       "      <td>2.499790e+13</td>\n",
       "    </tr>\n",
       "    <tr>\n",
       "      <th>15</th>\n",
       "      <td>Marzahn - Hellersdorf</td>\n",
       "      <td>2.499790e+13</td>\n",
       "      <td>2.499790e+13</td>\n",
       "    </tr>\n",
       "    <tr>\n",
       "      <th>31</th>\n",
       "      <td>Hotel</td>\n",
       "      <td>1.185965e+03</td>\n",
       "      <td>1.185965e+03</td>\n",
       "    </tr>\n",
       "    <tr>\n",
       "      <th>35</th>\n",
       "      <td>Serviced apartment</td>\n",
       "      <td>4.676528e+01</td>\n",
       "      <td>4.676528e+01</td>\n",
       "    </tr>\n",
       "    <tr>\n",
       "      <th>36</th>\n",
       "      <td>Townhouse</td>\n",
       "      <td>-4.433087e+01</td>\n",
       "      <td>4.433087e+01</td>\n",
       "    </tr>\n",
       "    <tr>\n",
       "      <th>24</th>\n",
       "      <td>Apartment</td>\n",
       "      <td>-3.897265e+01</td>\n",
       "      <td>3.897265e+01</td>\n",
       "    </tr>\n",
       "    <tr>\n",
       "      <th>26</th>\n",
       "      <td>Boutique hotel</td>\n",
       "      <td>3.861449e+01</td>\n",
       "      <td>3.861449e+01</td>\n",
       "    </tr>\n",
       "    <tr>\n",
       "      <th>27</th>\n",
       "      <td>Condominium</td>\n",
       "      <td>-3.762184e+01</td>\n",
       "      <td>3.762184e+01</td>\n",
       "    </tr>\n",
       "    <tr>\n",
       "      <th>32</th>\n",
       "      <td>House</td>\n",
       "      <td>-3.465010e+01</td>\n",
       "      <td>3.465010e+01</td>\n",
       "    </tr>\n",
       "    <tr>\n",
       "      <th>28</th>\n",
       "      <td>Guest suite</td>\n",
       "      <td>-3.092696e+01</td>\n",
       "      <td>3.092696e+01</td>\n",
       "    </tr>\n",
       "  </tbody>\n",
       "</table>\n",
       "</div>"
      ],
      "text/plain": [
       "                     est_int         coefs     abs_coefs\n",
       "12      Charlottenburg-Wilm.  2.499790e+13  2.499790e+13\n",
       "16                     Mitte  2.499790e+13  2.499790e+13\n",
       "18                    Pankow  2.499790e+13  2.499790e+13\n",
       "13  Friedrichshain-Kreuzberg  2.499790e+13  2.499790e+13\n",
       "14               Lichtenberg  2.499790e+13  2.499790e+13\n",
       "22    Tempelhof - Schöneberg  2.499790e+13  2.499790e+13\n",
       "21     Steglitz - Zehlendorf  2.499790e+13  2.499790e+13\n",
       "17                  Neukölln  2.499790e+13  2.499790e+13\n",
       "23        Treptow - Köpenick  2.499790e+13  2.499790e+13\n",
       "19             Reinickendorf  2.499790e+13  2.499790e+13\n",
       "20                   Spandau  2.499790e+13  2.499790e+13\n",
       "15     Marzahn - Hellersdorf  2.499790e+13  2.499790e+13\n",
       "31                     Hotel  1.185965e+03  1.185965e+03\n",
       "35        Serviced apartment  4.676528e+01  4.676528e+01\n",
       "36                 Townhouse -4.433087e+01  4.433087e+01\n",
       "24                 Apartment -3.897265e+01  3.897265e+01\n",
       "26            Boutique hotel  3.861449e+01  3.861449e+01\n",
       "27               Condominium -3.762184e+01  3.762184e+01\n",
       "32                     House -3.465010e+01  3.465010e+01\n",
       "28               Guest suite -3.092696e+01  3.092696e+01"
      ]
     },
     "execution_count": 58,
     "metadata": {},
     "output_type": "execute_result"
    }
   ],
   "source": [
    "# Source: Udacity Data Science Nanodegree couse material\n",
    "\n",
    "def coef_weights(coefficients, X_train):\n",
    "    '''\n",
    "    INPUT:\n",
    "    coefficients - the coefficients of the linear model \n",
    "    X_train - the training data, so the column names can be used\n",
    "    OUTPUT:\n",
    "    coefs_df - a dataframe holding the coefficient, estimate, and abs(estimate)\n",
    "    \n",
    "    Provides a dataframe that can be used to understand the most influential coefficients\n",
    "    in a linear model by providing the coefficient estimates along with the name of the \n",
    "    variable attached to the coefficient.\n",
    "    '''\n",
    "    coefs_df = pd.DataFrame()\n",
    "    coefs_df['est_int'] = X_train.columns\n",
    "    coefs_df['coefs'] = lm_model.coef_\n",
    "    coefs_df['abs_coefs'] = np.abs(lm_model.coef_)\n",
    "    coefs_df = coefs_df.sort_values('abs_coefs', ascending=False)\n",
    "    return coefs_df\n",
    "\n",
    "# Use the function\n",
    "coef_df = coef_weights(lm_model.coef_, X_train)\n",
    "\n",
    "# Look at the top results\n",
    "coef_df.head(20)"
   ]
  },
  {
   "cell_type": "markdown",
   "metadata": {},
   "source": [
    "Not surprisingly the biggest factors for the price are some neighbourhoods and (to some extent acommodation types)."
   ]
  },
  {
   "cell_type": "code",
   "execution_count": null,
   "metadata": {},
   "outputs": [],
   "source": []
  }
 ],
 "metadata": {
  "kernelspec": {
   "display_name": "Python 3",
   "language": "python",
   "name": "python3"
  },
  "language_info": {
   "codemirror_mode": {
    "name": "ipython",
    "version": 3
   },
   "file_extension": ".py",
   "mimetype": "text/x-python",
   "name": "python",
   "nbconvert_exporter": "python",
   "pygments_lexer": "ipython3",
   "version": "3.6.5"
  }
 },
 "nbformat": 4,
 "nbformat_minor": 2
}
